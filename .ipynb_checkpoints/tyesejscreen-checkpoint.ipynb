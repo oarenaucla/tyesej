{
 "cells": [
  {
   "cell_type": "markdown",
   "id": "ac664bde-f866-4f80-a15d-899af5cd9bc7",
   "metadata": {},
   "source": [
    "# TYES EJ SCREEN "
   ]
  },
  {
   "cell_type": "markdown",
   "id": "8a5fe952-b278-4a6b-a9c3-571a3ce38434",
   "metadata": {},
   "source": [
    "This notebook is looking at environmental justice data for the TYES area, specifically pulling in indicators from the federal government's EJ SCREEN. Because it uses census-tract level data, we have identified specific California tracts that make up the TYES area at 1, 2 and 3 miles.  "
   ]
  },
  {
   "cell_type": "code",
   "execution_count": 9,
   "id": "4a340ae3-fb63-4698-acdd-50c4ad5e3dab",
   "metadata": {},
   "outputs": [],
   "source": [
    "import pandas as pd\n",
    "import geopandas as gpd\n",
    "import matplotlib.pyplot as plt\n",
    "import folium\n",
    "import networkx as nx\n",
    "import osmnx as ox\n",
    "import contextily as ctx\n",
    "from matplotlib.patches import Patch\n",
    "from matplotlib.lines import Line2D "
   ]
  },
  {
   "cell_type": "markdown",
   "id": "13f28b7a-6d18-4eef-9d9c-8b240d0eef92",
   "metadata": {},
   "source": [
    "### Geographic Data Pull ###"
   ]
  },
  {
   "cell_type": "markdown",
   "id": "4de8b4f1-7660-4349-84b0-158657c8a01a",
   "metadata": {},
   "source": [
    "Here I am going to import EJ Screen Data for all of LA County, then I will specifically look at the areas that make up the census tracts in miles 1, 2, 3 for TYES. First, I will pull in GEOJSON Census Tract geographic data from: https://geohub.lacity.org/datasets/lacounty::census-tracts-2020/about"
   ]
  },
  {
   "cell_type": "code",
   "execution_count": 12,
   "id": "9098a4d6-bc00-4a12-820d-418276090799",
   "metadata": {},
   "outputs": [
    {
     "data": {
      "text/html": [
       "<div>\n",
       "<style scoped>\n",
       "    .dataframe tbody tr th:only-of-type {\n",
       "        vertical-align: middle;\n",
       "    }\n",
       "\n",
       "    .dataframe tbody tr th {\n",
       "        vertical-align: top;\n",
       "    }\n",
       "\n",
       "    .dataframe thead th {\n",
       "        text-align: right;\n",
       "    }\n",
       "</style>\n",
       "<table border=\"1\" class=\"dataframe\">\n",
       "  <thead>\n",
       "    <tr style=\"text-align: right;\">\n",
       "      <th></th>\n",
       "      <th>OBJECTID</th>\n",
       "      <th>CT20</th>\n",
       "      <th>LABEL</th>\n",
       "      <th>ShapeSTArea</th>\n",
       "      <th>ShapeSTLength</th>\n",
       "      <th>geometry</th>\n",
       "    </tr>\n",
       "  </thead>\n",
       "  <tbody>\n",
       "    <tr>\n",
       "      <th>0</th>\n",
       "      <td>2496</td>\n",
       "      <td>101110</td>\n",
       "      <td>1011.10</td>\n",
       "      <td>1.229562e+07</td>\n",
       "      <td>15083.854287</td>\n",
       "      <td>POLYGON ((-118.29793 34.26323, -118.30082 34.2...</td>\n",
       "    </tr>\n",
       "    <tr>\n",
       "      <th>1</th>\n",
       "      <td>2497</td>\n",
       "      <td>101122</td>\n",
       "      <td>1011.22</td>\n",
       "      <td>2.845774e+07</td>\n",
       "      <td>31671.455844</td>\n",
       "      <td>POLYGON ((-118.27743 34.25991, -118.27743 34.2...</td>\n",
       "    </tr>\n",
       "    <tr>\n",
       "      <th>2</th>\n",
       "      <td>2498</td>\n",
       "      <td>101220</td>\n",
       "      <td>1012.20</td>\n",
       "      <td>7.522093e+06</td>\n",
       "      <td>12698.783810</td>\n",
       "      <td>POLYGON ((-118.27818 34.25577, -118.27887 34.2...</td>\n",
       "    </tr>\n",
       "    <tr>\n",
       "      <th>3</th>\n",
       "      <td>2499</td>\n",
       "      <td>101221</td>\n",
       "      <td>1012.21</td>\n",
       "      <td>3.812000e+06</td>\n",
       "      <td>9161.710543</td>\n",
       "      <td>POLYGON ((-118.28735 34.25591, -118.28863 34.2...</td>\n",
       "    </tr>\n",
       "    <tr>\n",
       "      <th>4</th>\n",
       "      <td>2500</td>\n",
       "      <td>101222</td>\n",
       "      <td>1012.22</td>\n",
       "      <td>3.191371e+06</td>\n",
       "      <td>9980.600461</td>\n",
       "      <td>POLYGON ((-118.28594 34.25590, -118.28697 34.2...</td>\n",
       "    </tr>\n",
       "  </tbody>\n",
       "</table>\n",
       "</div>"
      ],
      "text/plain": [
       "   OBJECTID    CT20    LABEL   ShapeSTArea  ShapeSTLength  \\\n",
       "0      2496  101110  1011.10  1.229562e+07   15083.854287   \n",
       "1      2497  101122  1011.22  2.845774e+07   31671.455844   \n",
       "2      2498  101220  1012.20  7.522093e+06   12698.783810   \n",
       "3      2499  101221  1012.21  3.812000e+06    9161.710543   \n",
       "4      2500  101222  1012.22  3.191371e+06    9980.600461   \n",
       "\n",
       "                                            geometry  \n",
       "0  POLYGON ((-118.29793 34.26323, -118.30082 34.2...  \n",
       "1  POLYGON ((-118.27743 34.25991, -118.27743 34.2...  \n",
       "2  POLYGON ((-118.27818 34.25577, -118.27887 34.2...  \n",
       "3  POLYGON ((-118.28735 34.25591, -118.28863 34.2...  \n",
       "4  POLYGON ((-118.28594 34.25590, -118.28697 34.2...  "
      ]
     },
     "execution_count": 12,
     "metadata": {},
     "output_type": "execute_result"
    }
   ],
   "source": [
    "tracts=gpd.read_file('data/ct2020.geojson')\n",
    "tracts.head()"
   ]
  },
  {
   "cell_type": "code",
   "execution_count": 13,
   "id": "f3998bfb-0213-4a59-8724-0f1f1f0dfdcd",
   "metadata": {},
   "outputs": [
    {
     "data": {
      "text/html": [
       "<div>\n",
       "<style scoped>\n",
       "    .dataframe tbody tr th:only-of-type {\n",
       "        vertical-align: middle;\n",
       "    }\n",
       "\n",
       "    .dataframe tbody tr th {\n",
       "        vertical-align: top;\n",
       "    }\n",
       "\n",
       "    .dataframe thead th {\n",
       "        text-align: right;\n",
       "    }\n",
       "</style>\n",
       "<table border=\"1\" class=\"dataframe\">\n",
       "  <thead>\n",
       "    <tr style=\"text-align: right;\">\n",
       "      <th></th>\n",
       "      <th>CT20</th>\n",
       "      <th>geometry</th>\n",
       "    </tr>\n",
       "  </thead>\n",
       "  <tbody>\n",
       "    <tr>\n",
       "      <th>0</th>\n",
       "      <td>101110</td>\n",
       "      <td>POLYGON ((-118.29793 34.26323, -118.30082 34.2...</td>\n",
       "    </tr>\n",
       "    <tr>\n",
       "      <th>1</th>\n",
       "      <td>101122</td>\n",
       "      <td>POLYGON ((-118.27743 34.25991, -118.27743 34.2...</td>\n",
       "    </tr>\n",
       "    <tr>\n",
       "      <th>2</th>\n",
       "      <td>101220</td>\n",
       "      <td>POLYGON ((-118.27818 34.25577, -118.27887 34.2...</td>\n",
       "    </tr>\n",
       "    <tr>\n",
       "      <th>3</th>\n",
       "      <td>101221</td>\n",
       "      <td>POLYGON ((-118.28735 34.25591, -118.28863 34.2...</td>\n",
       "    </tr>\n",
       "    <tr>\n",
       "      <th>4</th>\n",
       "      <td>101222</td>\n",
       "      <td>POLYGON ((-118.28594 34.25590, -118.28697 34.2...</td>\n",
       "    </tr>\n",
       "  </tbody>\n",
       "</table>\n",
       "</div>"
      ],
      "text/plain": [
       "     CT20                                           geometry\n",
       "0  101110  POLYGON ((-118.29793 34.26323, -118.30082 34.2...\n",
       "1  101122  POLYGON ((-118.27743 34.25991, -118.27743 34.2...\n",
       "2  101220  POLYGON ((-118.27818 34.25577, -118.27887 34.2...\n",
       "3  101221  POLYGON ((-118.28735 34.25591, -118.28863 34.2...\n",
       "4  101222  POLYGON ((-118.28594 34.25590, -118.28697 34.2..."
      ]
     },
     "execution_count": 13,
     "metadata": {},
     "output_type": "execute_result"
    }
   ],
   "source": [
    "tracts = tracts[['CT20','geometry']]\n",
    "tracts.head()"
   ]
  },
  {
   "cell_type": "code",
   "execution_count": 14,
   "id": "16ce25f2-4c58-4c59-a31e-376536f40785",
   "metadata": {},
   "outputs": [
    {
     "data": {
      "text/html": [
       "<div>\n",
       "<style scoped>\n",
       "    .dataframe tbody tr th:only-of-type {\n",
       "        vertical-align: middle;\n",
       "    }\n",
       "\n",
       "    .dataframe tbody tr th {\n",
       "        vertical-align: top;\n",
       "    }\n",
       "\n",
       "    .dataframe thead th {\n",
       "        text-align: right;\n",
       "    }\n",
       "</style>\n",
       "<table border=\"1\" class=\"dataframe\">\n",
       "  <thead>\n",
       "    <tr style=\"text-align: right;\">\n",
       "      <th></th>\n",
       "      <th>CT20</th>\n",
       "      <th>geometry</th>\n",
       "      <th>FIPS</th>\n",
       "    </tr>\n",
       "  </thead>\n",
       "  <tbody>\n",
       "    <tr>\n",
       "      <th>0</th>\n",
       "      <td>101110</td>\n",
       "      <td>POLYGON ((-118.29793 34.26323, -118.30082 34.2...</td>\n",
       "      <td>06037101110</td>\n",
       "    </tr>\n",
       "    <tr>\n",
       "      <th>1</th>\n",
       "      <td>101122</td>\n",
       "      <td>POLYGON ((-118.27743 34.25991, -118.27743 34.2...</td>\n",
       "      <td>06037101122</td>\n",
       "    </tr>\n",
       "    <tr>\n",
       "      <th>2</th>\n",
       "      <td>101220</td>\n",
       "      <td>POLYGON ((-118.27818 34.25577, -118.27887 34.2...</td>\n",
       "      <td>06037101220</td>\n",
       "    </tr>\n",
       "    <tr>\n",
       "      <th>3</th>\n",
       "      <td>101221</td>\n",
       "      <td>POLYGON ((-118.28735 34.25591, -118.28863 34.2...</td>\n",
       "      <td>06037101221</td>\n",
       "    </tr>\n",
       "    <tr>\n",
       "      <th>4</th>\n",
       "      <td>101222</td>\n",
       "      <td>POLYGON ((-118.28594 34.25590, -118.28697 34.2...</td>\n",
       "      <td>06037101222</td>\n",
       "    </tr>\n",
       "  </tbody>\n",
       "</table>\n",
       "</div>"
      ],
      "text/plain": [
       "     CT20                                           geometry         FIPS\n",
       "0  101110  POLYGON ((-118.29793 34.26323, -118.30082 34.2...  06037101110\n",
       "1  101122  POLYGON ((-118.27743 34.25991, -118.27743 34.2...  06037101122\n",
       "2  101220  POLYGON ((-118.27818 34.25577, -118.27887 34.2...  06037101220\n",
       "3  101221  POLYGON ((-118.28735 34.25591, -118.28863 34.2...  06037101221\n",
       "4  101222  POLYGON ((-118.28594 34.25590, -118.28697 34.2...  06037101222"
      ]
     },
     "execution_count": 14,
     "metadata": {},
     "output_type": "execute_result"
    }
   ],
   "source": [
    "tracts['FIPS'] ='06' + '037' + tracts['CT20']\n",
    "tracts.head()"
   ]
  },
  {
   "cell_type": "markdown",
   "id": "2625ee45-9d38-4b5c-b437-f38dc4bfe446",
   "metadata": {},
   "source": [
    "test"
   ]
  },
  {
   "cell_type": "code",
   "execution_count": null,
   "id": "3c84147f-2a8f-47f4-89e3-d8e7f77bdfcb",
   "metadata": {},
   "outputs": [],
   "source": []
  }
 ],
 "metadata": {
  "kernelspec": {
   "display_name": "Python 3 (ipykernel)",
   "language": "python",
   "name": "python3"
  },
  "language_info": {
   "codemirror_mode": {
    "name": "ipython",
    "version": 3
   },
   "file_extension": ".py",
   "mimetype": "text/x-python",
   "name": "python",
   "nbconvert_exporter": "python",
   "pygments_lexer": "ipython3",
   "version": "3.10.8"
  }
 },
 "nbformat": 4,
 "nbformat_minor": 5
}
